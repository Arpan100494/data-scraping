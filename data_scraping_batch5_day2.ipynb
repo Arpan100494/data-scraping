{
  "nbformat": 4,
  "nbformat_minor": 0,
  "metadata": {
    "colab": {
      "name": "data-scraping-batch5-day2.ipynb",
      "version": "0.3.2",
      "provenance": [],
      "collapsed_sections": []
    },
    "kernelspec": {
      "name": "python3",
      "display_name": "Python 3"
    }
  },
  "cells": [
    {
      "metadata": {
        "id": "qtp2yBX1qVof",
        "colab_type": "code",
        "colab": {}
      },
      "cell_type": "code",
      "source": [
        "import pandas as pd\n",
        "import numpy as np\n",
        "import requests\n",
        "import bs4\n",
        "url = 'https://www.monsterindia.com/data-science-jobs.html'\n",
        "\n",
        "page = requests.get(url).text\n",
        "bs_obj = bs4.BeautifulSoup(page, 'html.parser')"
      ],
      "execution_count": 0,
      "outputs": []
    },
    {
      "metadata": {
        "id": "0Szg-c2sqbGC",
        "colab_type": "code",
        "colab": {}
      },
      "cell_type": "code",
      "source": [
        "jobs = pd.DataFrame()\n",
        "for i in range(1,5):\n",
        "  url = 'https://www.monsterindia.com/data-science-jobs-%d.html' % i\n",
        "  page = requests.get(url).text\n",
        "  bs_obj = bs4.BeautifulSoup(page, 'html.parser')\n",
        "  \n",
        "  parents = bs_obj.findAll('div', {'class': 'jobwrap',\n",
        "                                   'type': 'tuple'})\n",
        "  for parent in parents:\n",
        "    job_title = parent.find('span', {'class': 'title_in'}).text\n",
        "    company = parent.find('div', {'class': 'jtxt orange'}).text\n",
        "\n",
        "    keyskills1 = parent.find('div', {'class': 'joblnk serachjoblnk'})\n",
        "    keyskills2 = keyskills1.findAll('div', {'class': 'jtxt'})[3]\n",
        "    keyskills = keyskills2.findAll('span')[1].text\n",
        "\n",
        "    location_tag = parent.find('div', {'class': 'jtxt jico ico1'})\n",
        "    if location_tag is None:\n",
        "      location = None\n",
        "    else:\n",
        "      location = location_tag.text\n",
        "\n",
        "    summary1 = parent.find('div', {'class': 'joblnk serachjoblnk'})\n",
        "    try:\n",
        "      summary2 = summary1.findAll('div', {'class': 'jtxt'})[4]\n",
        "      summary = summary2.findAll('span')[1].text\n",
        "    except:\n",
        "      summary = None\n",
        "\n",
        "    job_link = parent.find('a', {'class': 'title_in'}).get('href')\n",
        "    job_id = parent.get('id')\n",
        "    curr_row = {'job_id': job_id,\n",
        "                'job_title': job_title,\n",
        "                'company': company,\n",
        "                'keyskills': keyskills,\n",
        "                'location': location,\n",
        "                'summary': summary,\n",
        "                'job_link': job_link}\n",
        "    jobs = jobs.append(curr_row, ignore_index=True)"
      ],
      "execution_count": 0,
      "outputs": []
    },
    {
      "metadata": {
        "id": "EDTzKVjINNwq",
        "colab_type": "code",
        "colab": {
          "base_uri": "https://localhost:8080/",
          "height": 307
        },
        "outputId": "7532e129-749e-4e0b-9635-76cd37789d43"
      },
      "cell_type": "code",
      "source": [
        "jobs_detailed = pd.DataFrame()\n",
        "for i, row in jobs.iterrows():\n",
        "  url = row['job_link'].replace(' ', '%20')\n",
        "  page = requests.get('https:'+url).text\n",
        "  bs_obj = bs4.BeautifulSoup(page, 'html.parser')\n",
        "  \n",
        "  role_sec = bs_obj.find('div', {'class': 'jd_rol_section'})\n",
        "  span_tags = role_sec.findAll('span')\n",
        "  \n",
        "  industry = span_tags[0].text\n",
        "  function = span_tags[1].text\n",
        "  #roles = span_tags[2].text\n",
        "  roles = '--'.join([a.text for a in span_tags[2].findAll('a')])\n",
        "  posted_on = span_tags[3].text\n",
        "  \n",
        "  curr_row = {'job_id': row['job_id'],\n",
        "              'industry': industry,\n",
        "              'function': function,\n",
        "              'roles': roles,\n",
        "              'posted_on': posted_on}\n",
        "  jobs_detailed = jobs_detailed.append(curr_row, ignore_index=True)\n",
        "jobs_detailed"
      ],
      "execution_count": 74,
      "outputs": [
        {
          "output_type": "error",
          "ename": "AttributeError",
          "evalue": "ignored",
          "traceback": [
            "\u001b[0;31m---------------------------------------------------------------------------\u001b[0m",
            "\u001b[0;31mAttributeError\u001b[0m                            Traceback (most recent call last)",
            "\u001b[0;32m<ipython-input-74-7495f46024c4>\u001b[0m in \u001b[0;36m<module>\u001b[0;34m()\u001b[0m\n\u001b[1;32m      6\u001b[0m \u001b[0;34m\u001b[0m\u001b[0m\n\u001b[1;32m      7\u001b[0m   \u001b[0mrole_sec\u001b[0m \u001b[0;34m=\u001b[0m \u001b[0mbs_obj\u001b[0m\u001b[0;34m.\u001b[0m\u001b[0mfind\u001b[0m\u001b[0;34m(\u001b[0m\u001b[0;34m'div'\u001b[0m\u001b[0;34m,\u001b[0m \u001b[0;34m{\u001b[0m\u001b[0;34m'class'\u001b[0m\u001b[0;34m:\u001b[0m \u001b[0;34m'jd_rol_section'\u001b[0m\u001b[0;34m}\u001b[0m\u001b[0;34m)\u001b[0m\u001b[0;34m\u001b[0m\u001b[0;34m\u001b[0m\u001b[0m\n\u001b[0;32m----> 8\u001b[0;31m   \u001b[0mspan_tags\u001b[0m \u001b[0;34m=\u001b[0m \u001b[0mrole_sec\u001b[0m\u001b[0;34m.\u001b[0m\u001b[0mfindAll\u001b[0m\u001b[0;34m(\u001b[0m\u001b[0;34m'span'\u001b[0m\u001b[0;34m)\u001b[0m\u001b[0;34m\u001b[0m\u001b[0;34m\u001b[0m\u001b[0m\n\u001b[0m\u001b[1;32m      9\u001b[0m \u001b[0;34m\u001b[0m\u001b[0m\n\u001b[1;32m     10\u001b[0m   \u001b[0mindustry\u001b[0m \u001b[0;34m=\u001b[0m \u001b[0mspan_tags\u001b[0m\u001b[0;34m[\u001b[0m\u001b[0;36m0\u001b[0m\u001b[0;34m]\u001b[0m\u001b[0;34m.\u001b[0m\u001b[0mtext\u001b[0m\u001b[0;34m\u001b[0m\u001b[0;34m\u001b[0m\u001b[0m\n",
            "\u001b[0;31mAttributeError\u001b[0m: 'NoneType' object has no attribute 'findAll'"
          ]
        }
      ]
    }
  ]
}