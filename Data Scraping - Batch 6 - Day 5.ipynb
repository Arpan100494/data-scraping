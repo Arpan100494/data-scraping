{
 "cells": [
  {
   "cell_type": "code",
   "execution_count": 2,
   "metadata": {},
   "outputs": [],
   "source": [
    "import tweepy"
   ]
  },
  {
   "cell_type": "code",
   "execution_count": 3,
   "metadata": {},
   "outputs": [],
   "source": [
    "consumer_key = 'guCU0VR5auH3gJwwDT9tf3Cf9'\n",
    "consumer_secret = 'wepdcNlRaVwRL4tL8iuBlsA1iKHQy7ahEQW6DbazuHl1CpaX6H'\n",
    "\n",
    "access_token = '150321726-QkHoEleE3sJQwUFx3Fjn4K3EXyGMXi27lFWnUeWD'\n",
    "access_secret = '8Z6tAgC4blFqHJjJdMHsmhIT0RhwEGSvhGxPSbDnTNS90'\n",
    "auth = tweepy.OAuthHandler(consumer_key, consumer_secret)\n",
    "auth.set_access_token(access_token, access_secret)\n",
    "\n",
    "api = tweepy.API(auth)"
   ]
  },
  {
   "cell_type": "code",
   "execution_count": 16,
   "metadata": {},
   "outputs": [
    {
     "data": {
      "text/plain": [
       "200"
      ]
     },
     "execution_count": 16,
     "metadata": {},
     "output_type": "execute_result"
    }
   ],
   "source": [
    "followers_status = api.followers('narendramodi', count=200)\n",
    "len(followers_status)"
   ]
  },
  {
   "cell_type": "code",
   "execution_count": 11,
   "metadata": {},
   "outputs": [],
   "source": [
    "#followers_status[0]._json"
   ]
  },
  {
   "cell_type": "code",
   "execution_count": 18,
   "metadata": {},
   "outputs": [],
   "source": [
    "#for follower in followers_status:\n",
    "#    print(follower.name)"
   ]
  },
  {
   "cell_type": "code",
   "execution_count": 19,
   "metadata": {},
   "outputs": [
    {
     "data": {
      "text/plain": [
       "20"
      ]
     },
     "execution_count": 19,
     "metadata": {},
     "output_type": "execute_result"
    }
   ],
   "source": [
    "users = api.search_users('chowkidar', count=200)\n",
    "len(users)"
   ]
  },
  {
   "cell_type": "code",
   "execution_count": 21,
   "metadata": {},
   "outputs": [],
   "source": [
    "#for user in users:\n",
    "#    print(user.name)"
   ]
  },
  {
   "cell_type": "code",
   "execution_count": 23,
   "metadata": {},
   "outputs": [],
   "source": [
    "#api.rate_limit_status()"
   ]
  },
  {
   "cell_type": "code",
   "execution_count": 24,
   "metadata": {},
   "outputs": [
    {
     "data": {
      "text/plain": [
       "'/Users/skathirmani/Projects/manipal/ds-batch6'"
      ]
     },
     "execution_count": 24,
     "metadata": {},
     "output_type": "execute_result"
    }
   ],
   "source": [
    "import os\n",
    "os.getcwd()"
   ]
  },
  {
   "cell_type": "code",
   "execution_count": 2,
   "metadata": {},
   "outputs": [
    {
     "data": {
      "text/plain": [
       "['jobs_datascience.csv', 'narendramodi_tweets.csv']"
      ]
     },
     "execution_count": 2,
     "metadata": {},
     "output_type": "execute_result"
    }
   ],
   "source": [
    "import glob\n",
    "glob.glob('*.csv')"
   ]
  },
  {
   "cell_type": "code",
   "execution_count": 4,
   "metadata": {},
   "outputs": [
    {
     "data": {
      "text/plain": [
       "False"
      ]
     },
     "execution_count": 4,
     "metadata": {},
     "output_type": "execute_result"
    }
   ],
   "source": [
    "file_name = 'tweets_datascience.csv'\n",
    "file_exists = file_name in glob.glob('*.csv')\n",
    "file_exists"
   ]
  },
  {
   "cell_type": "code",
   "execution_count": 17,
   "metadata": {},
   "outputs": [],
   "source": [
    "import pandas as pd\n",
    "file_name = 'temp.csv'\n",
    "file_exists = file_name in glob.glob('*.csv')\n",
    "\n",
    "df = pd.DataFrame({'x': [1,2,3], 'y':[4,5,6]})\n",
    "\n",
    "if file_exists:\n",
    "    # Append the data\n",
    "    with open(file_name, 'a') as f:\n",
    "        df.to_csv(f, index=False, header=False)\n",
    "else:\n",
    "    # Create a new file\n",
    "    df.to_csv(file_name, index=False)"
   ]
  },
  {
   "cell_type": "markdown",
   "metadata": {},
   "source": [
    "# Data Quality"
   ]
  },
  {
   "cell_type": "markdown",
   "metadata": {},
   "source": [
    "Types of data quality isses\n",
    "- Missing values\n",
    "- Outliers\n",
    "- Redunancy\n",
    "- Invalid format\n",
    "    - numbers in strings\n",
    "    - invalid date formats\n",
    "    - Currency symbols along with number\n",
    "    - Thousands separator\n",
    "    - Inclusion of units\n",
    "- Typos\n",
    "- Encoding issues"
   ]
  },
  {
   "cell_type": "code",
   "execution_count": 26,
   "metadata": {},
   "outputs": [],
   "source": [
    "# https://github.com/skathirmani/datasets -> naukri_jobs_datascience\n",
    "naukri = pd.read_csv('/datasets/naukri_jobs_datascience.csv')\n",
    "#naukri.head(5)"
   ]
  },
  {
   "cell_type": "code",
   "execution_count": 68,
   "metadata": {},
   "outputs": [
    {
     "data": {
      "text/plain": [
       "'4'"
      ]
     },
     "execution_count": 68,
     "metadata": {},
     "output_type": "execute_result"
    }
   ],
   "source": [
    "# naukri['experience'].unique()\n",
    "x = naukri['experience'][0]"
   ]
  },
  {
   "cell_type": "code",
   "execution_count": 70,
   "metadata": {},
   "outputs": [
    {
     "data": {
      "text/plain": [
       "0    None\n",
       "dtype: object"
      ]
     },
     "execution_count": 70,
     "metadata": {},
     "output_type": "execute_result"
    }
   ],
   "source": [
    "def temp(row):\n",
    "    if type(row['experience']) == str:\n",
    "        pass\n",
    "    else:\n",
    "        print(row.name, row['experience'])\n",
    "naukri.head(1).apply(lambda row: temp(row), axis=1)"
   ]
  },
  {
   "cell_type": "code",
   "execution_count": 82,
   "metadata": {},
   "outputs": [],
   "source": [
    "naukri['min_exp'] = naukri['experience'].apply( \n",
    "    lambda x: float('nan') if type(x)!=str else x.split(\n",
    "        '-')[0]).astype(float)\n",
    "naukri['max_exp'] = naukri['experience'].apply( \n",
    "    lambda x: float('nan') if type(x)!=str else x.split(\n",
    "        '-')[1].split(' ')[0]).astype(float)"
   ]
  },
  {
   "cell_type": "code",
   "execution_count": 87,
   "metadata": {},
   "outputs": [],
   "source": [
    "%matplotlib inline\n",
    "#naukri['max_exp'].plot.box()"
   ]
  },
  {
   "cell_type": "code",
   "execution_count": 96,
   "metadata": {},
   "outputs": [
    {
     "data": {
      "text/plain": [
       "(3474, 13)"
      ]
     },
     "execution_count": 96,
     "metadata": {},
     "output_type": "execute_result"
    }
   ],
   "source": [
    "naukri[naukri['salary'].str.contains('Not disclosed')].shape"
   ]
  },
  {
   "cell_type": "code",
   "execution_count": 103,
   "metadata": {},
   "outputs": [
    {
     "name": "stderr",
     "output_type": "stream",
     "text": [
      "/anaconda3/lib/python3.6/site-packages/ipykernel_launcher.py:2: SettingWithCopyWarning: \n",
      "A value is trying to be set on a copy of a slice from a DataFrame.\n",
      "Try using .loc[row_indexer,col_indexer] = value instead\n",
      "\n",
      "See the caveats in the documentation: http://pandas.pydata.org/pandas-docs/stable/indexing.html#indexing-view-versus-copy\n",
      "  \n"
     ]
    }
   ],
   "source": [
    "salaries = naukri[~naukri['salary'].str.contains('Not disclosed')]\n",
    "salaries['salary_new'] = salaries['salary'].str.replace(',', '')"
   ]
  },
  {
   "cell_type": "code",
   "execution_count": 154,
   "metadata": {},
   "outputs": [
    {
     "name": "stderr",
     "output_type": "stream",
     "text": [
      "/anaconda3/lib/python3.6/site-packages/ipykernel_launcher.py:2: SettingWithCopyWarning: \n",
      "A value is trying to be set on a copy of a slice from a DataFrame.\n",
      "Try using .loc[row_indexer,col_indexer] = value instead\n",
      "\n",
      "See the caveats in the documentation: http://pandas.pydata.org/pandas-docs/stable/indexing.html#indexing-view-versus-copy\n",
      "  \n",
      "/anaconda3/lib/python3.6/site-packages/ipykernel_launcher.py:5: SettingWithCopyWarning: \n",
      "A value is trying to be set on a copy of a slice from a DataFrame.\n",
      "Try using .loc[row_indexer,col_indexer] = value instead\n",
      "\n",
      "See the caveats in the documentation: http://pandas.pydata.org/pandas-docs/stable/indexing.html#indexing-view-versus-copy\n",
      "  \"\"\"\n",
      "/anaconda3/lib/python3.6/site-packages/ipykernel_launcher.py:8: SettingWithCopyWarning: \n",
      "A value is trying to be set on a copy of a slice from a DataFrame.\n",
      "Try using .loc[row_indexer,col_indexer] = value instead\n",
      "\n",
      "See the caveats in the documentation: http://pandas.pydata.org/pandas-docs/stable/indexing.html#indexing-view-versus-copy\n",
      "  \n"
     ]
    }
   ],
   "source": [
    "salaries['is_salary'] = salaries['salary_new'].str.contains(\n",
    "    '\\d+ - \\d+ P.A.')\n",
    "salaries['min'] = salaries.apply(\n",
    "    lambda row: row.salary_new.split(\n",
    "        ' - ')[0] if row.is_salary else 'nan',axis=1).astype(float)\n",
    "salaries['max'] = salaries.apply(\n",
    "    lambda row: row.salary_new.split(' - ')[1].split(\n",
    "        ' P.A.')[0] if row.is_salary else 'nan', axis=1).astype(float)"
   ]
  },
  {
   "cell_type": "code",
   "execution_count": 160,
   "metadata": {},
   "outputs": [
    {
     "data": {
      "text/plain": [
       "0.00     0.30\n",
       "0.25     4.00\n",
       "0.50     7.00\n",
       "0.75    13.75\n",
       "1.00    50.00\n",
       "Name: min, dtype: float64"
      ]
     },
     "execution_count": 160,
     "metadata": {},
     "output_type": "execute_result"
    }
   ],
   "source": [
    "salaries['min'].quantile([0, 0.25, 0.5, 0.75, 1]) / 100000"
   ]
  },
  {
   "cell_type": "code",
   "execution_count": 171,
   "metadata": {},
   "outputs": [
    {
     "data": {
      "text/plain": [
       "array([ 0.,  1.,  2.,  3.,  4.,  5.,  6.,  7.,  8.,  9., 10., 11., 12.,\n",
       "       13., 14., 15., 18., nan])"
      ]
     },
     "execution_count": 171,
     "metadata": {},
     "output_type": "execute_result"
    }
   ],
   "source": [
    "salaries['min_exp'].sort_values().unique()"
   ]
  },
  {
   "cell_type": "code",
   "execution_count": 176,
   "metadata": {},
   "outputs": [
    {
     "data": {
      "text/plain": [
       "<matplotlib.axes._subplots.AxesSubplot at 0x12645a898>"
      ]
     },
     "execution_count": 176,
     "metadata": {},
     "output_type": "execute_result"
    },
    {
     "data": {
      "image/png": "[encoded data removed]",
      "text/plain": [
       "<Figure size 432x288 with 1 Axes>"
      ]
     },
     "metadata": {},
     "output_type": "display_data"
    }
   ],
   "source": [
    "(salaries.groupby('min_exp')['min'].mean() / 100000).plot.line()"
   ]
  },
  {
   "cell_type": "code",
   "execution_count": 182,
   "metadata": {},
   "outputs": [
    {
     "name": "stderr",
     "output_type": "stream",
     "text": [
      "/anaconda3/lib/python3.6/site-packages/ipykernel_launcher.py:14: SettingWithCopyWarning: \n",
      "A value is trying to be set on a copy of a slice from a DataFrame.\n",
      "Try using .loc[row_indexer,col_indexer] = value instead\n",
      "\n",
      "See the caveats in the documentation: http://pandas.pydata.org/pandas-docs/stable/indexing.html#indexing-view-versus-copy\n",
      "  \n"
     ]
    },
    {
     "data": {
      "text/plain": [
       "exp_range\n",
       "Fresher1     2.439535\n",
       "0-2          5.580275\n",
       "2-5          9.083586\n",
       "5-10        16.488095\n",
       "10-20       29.760870\n",
       "Above 20          NaN\n",
       "Name: min, dtype: float64"
      ]
     },
     "execution_count": 182,
     "metadata": {},
     "output_type": "execute_result"
    }
   ],
   "source": [
    "def exp_range(exp):\n",
    "    if exp == 0:\n",
    "        return 'Fresher1'\n",
    "    elif exp > 0 and exp <= 2:\n",
    "        return '0-2'\n",
    "    elif exp > 2 and exp <= 5:\n",
    "        return '2-5'\n",
    "    elif exp >5 and exp <= 10:\n",
    "        return '5-10'\n",
    "    elif exp > 10 and exp <= 20:\n",
    "        return '10-20'\n",
    "    else:\n",
    "        return 'Above 20'\n",
    "salaries['exp_range'] = salaries['min_exp'].apply(exp_range)\n",
    "(salaries.groupby(['exp_range'])['min'].mean() / 100000).sort_values()"
   ]
  },
  {
   "cell_type": "code",
   "execution_count": 185,
   "metadata": {},
   "outputs": [
    {
     "data": {
      "text/plain": [
       "array([0, 0, 1, 1, 1, 1, 2, 3])"
      ]
     },
     "execution_count": 185,
     "metadata": {},
     "output_type": "execute_result"
    }
   ],
   "source": [
    "a = [10, 10, 30, 50, 30, 50, 90, 101]\n",
    "bins = [30, 60, 100]\n",
    "import pandas as pd\n",
    "import numpy as np\n",
    "np.digitize(a, bins)"
   ]
  },
  {
   "cell_type": "code",
   "execution_count": 200,
   "metadata": {},
   "outputs": [
    {
     "name": "stderr",
     "output_type": "stream",
     "text": [
      "/anaconda3/lib/python3.6/site-packages/ipykernel_launcher.py:15: SettingWithCopyWarning: \n",
      "A value is trying to be set on a copy of a slice from a DataFrame.\n",
      "Try using .loc[row_indexer,col_indexer] = value instead\n",
      "\n",
      "See the caveats in the documentation: http://pandas.pydata.org/pandas-docs/stable/indexing.html#indexing-view-versus-copy\n",
      "  from ipykernel import kernelapp as app\n"
     ]
    },
    {
     "data": {
      "text/html": [
       "<div>\n",
       "<style scoped>\n",
       "    .dataframe tbody tr th:only-of-type {\n",
       "        vertical-align: middle;\n",
       "    }\n",
       "\n",
       "    .dataframe tbody tr th {\n",
       "        vertical-align: top;\n",
       "    }\n",
       "\n",
       "    .dataframe thead th {\n",
       "        text-align: right;\n",
       "    }\n",
       "</style>\n",
       "<table border=\"1\" class=\"dataframe\">\n",
       "  <thead>\n",
       "    <tr style=\"text-align: right;\">\n",
       "      <th></th>\n",
       "      <th>exp_range</th>\n",
       "      <th>location</th>\n",
       "      <th>min</th>\n",
       "      <th>max</th>\n",
       "    </tr>\n",
       "  </thead>\n",
       "  <tbody>\n",
       "    <tr>\n",
       "      <th>199</th>\n",
       "      <td>Freshers</td>\n",
       "      <td>Jaipur</td>\n",
       "      <td>8.000000</td>\n",
       "      <td>11.000000</td>\n",
       "    </tr>\n",
       "    <tr>\n",
       "      <th>194</th>\n",
       "      <td>Freshers</td>\n",
       "      <td>Delhi NCR, Mumbai, Bengaluru, Pune</td>\n",
       "      <td>5.000000</td>\n",
       "      <td>10.000000</td>\n",
       "    </tr>\n",
       "    <tr>\n",
       "      <th>205</th>\n",
       "      <td>Freshers</td>\n",
       "      <td>Mumbai, Bengaluru, Pune, Delhi NCR</td>\n",
       "      <td>4.500000</td>\n",
       "      <td>8.500000</td>\n",
       "    </tr>\n",
       "    <tr>\n",
       "      <th>204</th>\n",
       "      <td>Freshers</td>\n",
       "      <td>Mumbai, Bengaluru, Pune</td>\n",
       "      <td>4.000000</td>\n",
       "      <td>7.666667</td>\n",
       "    </tr>\n",
       "    <tr>\n",
       "      <th>209</th>\n",
       "      <td>Freshers</td>\n",
       "      <td>Pune(Baner)</td>\n",
       "      <td>4.000000</td>\n",
       "      <td>9.000000</td>\n",
       "    </tr>\n",
       "    <tr>\n",
       "      <th>200</th>\n",
       "      <td>Freshers</td>\n",
       "      <td>Mumbai</td>\n",
       "      <td>3.750000</td>\n",
       "      <td>5.000000</td>\n",
       "    </tr>\n",
       "    <tr>\n",
       "      <th>206</th>\n",
       "      <td>Freshers</td>\n",
       "      <td>Noida</td>\n",
       "      <td>3.500000</td>\n",
       "      <td>7.500000</td>\n",
       "    </tr>\n",
       "    <tr>\n",
       "      <th>192</th>\n",
       "      <td>Freshers</td>\n",
       "      <td>Delhi NCR, Gurgaon</td>\n",
       "      <td>3.000000</td>\n",
       "      <td>6.000000</td>\n",
       "    </tr>\n",
       "    <tr>\n",
       "      <th>196</th>\n",
       "      <td>Freshers</td>\n",
       "      <td>Delhi NCR, Noida, Dehradun</td>\n",
       "      <td>3.000000</td>\n",
       "      <td>5.500000</td>\n",
       "    </tr>\n",
       "    <tr>\n",
       "      <th>203</th>\n",
       "      <td>Freshers</td>\n",
       "      <td>Mumbai(Powai)</td>\n",
       "      <td>3.000000</td>\n",
       "      <td>6.000000</td>\n",
       "    </tr>\n",
       "    <tr>\n",
       "      <th>201</th>\n",
       "      <td>Freshers</td>\n",
       "      <td>Mumbai Suburbs</td>\n",
       "      <td>2.500000</td>\n",
       "      <td>3.000000</td>\n",
       "    </tr>\n",
       "    <tr>\n",
       "      <th>184</th>\n",
       "      <td>Freshers</td>\n",
       "      <td>Bengaluru(5th block Koramangala)</td>\n",
       "      <td>2.250000</td>\n",
       "      <td>5.500000</td>\n",
       "    </tr>\n",
       "    <tr>\n",
       "      <th>195</th>\n",
       "      <td>Freshers</td>\n",
       "      <td>Delhi NCR, Mumbai, Delhi</td>\n",
       "      <td>2.250000</td>\n",
       "      <td>3.500000</td>\n",
       "    </tr>\n",
       "    <tr>\n",
       "      <th>197</th>\n",
       "      <td>Freshers</td>\n",
       "      <td>Hyderabad</td>\n",
       "      <td>2.250000</td>\n",
       "      <td>2.500000</td>\n",
       "    </tr>\n",
       "    <tr>\n",
       "      <th>198</th>\n",
       "      <td>Freshers</td>\n",
       "      <td>Hyderabad, Pune, Kolkata</td>\n",
       "      <td>2.250000</td>\n",
       "      <td>5.000000</td>\n",
       "    </tr>\n",
       "    <tr>\n",
       "      <th>185</th>\n",
       "      <td>Freshers</td>\n",
       "      <td>Bengaluru, Chennai, Coimbatore</td>\n",
       "      <td>2.000000</td>\n",
       "      <td>3.250000</td>\n",
       "    </tr>\n",
       "    <tr>\n",
       "      <th>188</th>\n",
       "      <td>Freshers</td>\n",
       "      <td>Chennai(Ashok Nagar+1)</td>\n",
       "      <td>2.000000</td>\n",
       "      <td>4.000000</td>\n",
       "    </tr>\n",
       "    <tr>\n",
       "      <th>193</th>\n",
       "      <td>Freshers</td>\n",
       "      <td>Delhi NCR, Gurgaon, Noida</td>\n",
       "      <td>2.000000</td>\n",
       "      <td>4.250000</td>\n",
       "    </tr>\n",
       "    <tr>\n",
       "      <th>210</th>\n",
       "      <td>Freshers</td>\n",
       "      <td>Pune(Nagar Road)</td>\n",
       "      <td>2.000000</td>\n",
       "      <td>3.000000</td>\n",
       "    </tr>\n",
       "    <tr>\n",
       "      <th>189</th>\n",
       "      <td>Freshers</td>\n",
       "      <td>Chennai(Taramani)</td>\n",
       "      <td>1.750000</td>\n",
       "      <td>2.750000</td>\n",
       "    </tr>\n",
       "    <tr>\n",
       "      <th>187</th>\n",
       "      <td>Freshers</td>\n",
       "      <td>Chennai</td>\n",
       "      <td>1.575000</td>\n",
       "      <td>1.875000</td>\n",
       "    </tr>\n",
       "    <tr>\n",
       "      <th>202</th>\n",
       "      <td>Freshers</td>\n",
       "      <td>Mumbai(Parel+1)</td>\n",
       "      <td>1.500000</td>\n",
       "      <td>3.750000</td>\n",
       "    </tr>\n",
       "    <tr>\n",
       "      <th>208</th>\n",
       "      <td>Freshers</td>\n",
       "      <td>Pune</td>\n",
       "      <td>1.500000</td>\n",
       "      <td>6.000000</td>\n",
       "    </tr>\n",
       "    <tr>\n",
       "      <th>182</th>\n",
       "      <td>Freshers</td>\n",
       "      <td>Ahmedabad, Vadodara</td>\n",
       "      <td>1.250000</td>\n",
       "      <td>2.500000</td>\n",
       "    </tr>\n",
       "    <tr>\n",
       "      <th>190</th>\n",
       "      <td>Freshers</td>\n",
       "      <td>Coimbatore</td>\n",
       "      <td>1.250000</td>\n",
       "      <td>1.500000</td>\n",
       "    </tr>\n",
       "    <tr>\n",
       "      <th>191</th>\n",
       "      <td>Freshers</td>\n",
       "      <td>Delhi NCR</td>\n",
       "      <td>1.250000</td>\n",
       "      <td>2.500000</td>\n",
       "    </tr>\n",
       "    <tr>\n",
       "      <th>207</th>\n",
       "      <td>Freshers</td>\n",
       "      <td>Noida(Sector-2 Noida)</td>\n",
       "      <td>1.250000</td>\n",
       "      <td>3.000000</td>\n",
       "    </tr>\n",
       "    <tr>\n",
       "      <th>211</th>\n",
       "      <td>Freshers</td>\n",
       "      <td>Vadodara</td>\n",
       "      <td>1.250000</td>\n",
       "      <td>2.500000</td>\n",
       "    </tr>\n",
       "    <tr>\n",
       "      <th>183</th>\n",
       "      <td>Freshers</td>\n",
       "      <td>Bengaluru</td>\n",
       "      <td>1.125000</td>\n",
       "      <td>2.250000</td>\n",
       "    </tr>\n",
       "    <tr>\n",
       "      <th>186</th>\n",
       "      <td>Freshers</td>\n",
       "      <td>Chandigarh, Mohali</td>\n",
       "      <td>0.875000</td>\n",
       "      <td>2.875000</td>\n",
       "    </tr>\n",
       "    <tr>\n",
       "      <th>...</th>\n",
       "      <td>...</td>\n",
       "      <td>...</td>\n",
       "      <td>...</td>\n",
       "      <td>...</td>\n",
       "    </tr>\n",
       "    <tr>\n",
       "      <th>9</th>\n",
       "      <td>0-2</td>\n",
       "      <td>Delhi</td>\n",
       "      <td>15.000000</td>\n",
       "      <td>30.000000</td>\n",
       "    </tr>\n",
       "    <tr>\n",
       "      <th>29</th>\n",
       "      <td>0-2</td>\n",
       "      <td>Trivandrum</td>\n",
       "      <td>15.000000</td>\n",
       "      <td>25.000000</td>\n",
       "    </tr>\n",
       "    <tr>\n",
       "      <th>5</th>\n",
       "      <td>0-2</td>\n",
       "      <td>Bengaluru, Delhi</td>\n",
       "      <td>10.000000</td>\n",
       "      <td>15.000000</td>\n",
       "    </tr>\n",
       "    <tr>\n",
       "      <th>14</th>\n",
       "      <td>0-2</td>\n",
       "      <td>Gurgaon(C Block Sushant Lok Phase - I)</td>\n",
       "      <td>10.000000</td>\n",
       "      <td>16.000000</td>\n",
       "    </tr>\n",
       "    <tr>\n",
       "      <th>2</th>\n",
       "      <td>0-2</td>\n",
       "      <td>Bengaluru(M.G Road)</td>\n",
       "      <td>7.000000</td>\n",
       "      <td>12.000000</td>\n",
       "    </tr>\n",
       "    <tr>\n",
       "      <th>13</th>\n",
       "      <td>0-2</td>\n",
       "      <td>Gurgaon</td>\n",
       "      <td>7.000000</td>\n",
       "      <td>9.000000</td>\n",
       "    </tr>\n",
       "    <tr>\n",
       "      <th>11</th>\n",
       "      <td>0-2</td>\n",
       "      <td>Delhi NCR(Sector-16A Noida)</td>\n",
       "      <td>5.000000</td>\n",
       "      <td>10.000000</td>\n",
       "    </tr>\n",
       "    <tr>\n",
       "      <th>16</th>\n",
       "      <td>0-2</td>\n",
       "      <td>Gurgaon, Bengaluru, Delhi</td>\n",
       "      <td>5.000000</td>\n",
       "      <td>7.500000</td>\n",
       "    </tr>\n",
       "    <tr>\n",
       "      <th>22</th>\n",
       "      <td>0-2</td>\n",
       "      <td>Mumbai(Mumbra)</td>\n",
       "      <td>5.000000</td>\n",
       "      <td>10.000000</td>\n",
       "    </tr>\n",
       "    <tr>\n",
       "      <th>24</th>\n",
       "      <td>0-2</td>\n",
       "      <td>Mumbai, Navi Mumbai</td>\n",
       "      <td>4.750000</td>\n",
       "      <td>9.500000</td>\n",
       "    </tr>\n",
       "    <tr>\n",
       "      <th>1</th>\n",
       "      <td>0-2</td>\n",
       "      <td>Bengaluru</td>\n",
       "      <td>4.687500</td>\n",
       "      <td>11.187500</td>\n",
       "    </tr>\n",
       "    <tr>\n",
       "      <th>0</th>\n",
       "      <td>0-2</td>\n",
       "      <td>Ahmedabad</td>\n",
       "      <td>4.333333</td>\n",
       "      <td>7.666667</td>\n",
       "    </tr>\n",
       "    <tr>\n",
       "      <th>23</th>\n",
       "      <td>0-2</td>\n",
       "      <td>Mumbai, Mumbai Suburbs</td>\n",
       "      <td>4.000000</td>\n",
       "      <td>7.000000</td>\n",
       "    </tr>\n",
       "    <tr>\n",
       "      <th>21</th>\n",
       "      <td>0-2</td>\n",
       "      <td>Mumbai</td>\n",
       "      <td>3.937500</td>\n",
       "      <td>5.062500</td>\n",
       "    </tr>\n",
       "    <tr>\n",
       "      <th>15</th>\n",
       "      <td>0-2</td>\n",
       "      <td>Gurgaon(Sikandarpur)</td>\n",
       "      <td>3.500000</td>\n",
       "      <td>6.000000</td>\n",
       "    </tr>\n",
       "    <tr>\n",
       "      <th>17</th>\n",
       "      <td>0-2</td>\n",
       "      <td>Hyderabad</td>\n",
       "      <td>3.500000</td>\n",
       "      <td>9.000000</td>\n",
       "    </tr>\n",
       "    <tr>\n",
       "      <th>4</th>\n",
       "      <td>0-2</td>\n",
       "      <td>Bengaluru, Chennai, Kochi</td>\n",
       "      <td>3.000000</td>\n",
       "      <td>8.000000</td>\n",
       "    </tr>\n",
       "    <tr>\n",
       "      <th>7</th>\n",
       "      <td>0-2</td>\n",
       "      <td>Chennai(Anna Salai+2)</td>\n",
       "      <td>3.000000</td>\n",
       "      <td>7.000000</td>\n",
       "    </tr>\n",
       "    <tr>\n",
       "      <th>8</th>\n",
       "      <td>0-2</td>\n",
       "      <td>Coimbatore</td>\n",
       "      <td>3.000000</td>\n",
       "      <td>5.000000</td>\n",
       "    </tr>\n",
       "    <tr>\n",
       "      <th>10</th>\n",
       "      <td>0-2</td>\n",
       "      <td>Delhi NCR</td>\n",
       "      <td>3.000000</td>\n",
       "      <td>6.250000</td>\n",
       "    </tr>\n",
       "    <tr>\n",
       "      <th>12</th>\n",
       "      <td>0-2</td>\n",
       "      <td>Faridabad</td>\n",
       "      <td>3.000000</td>\n",
       "      <td>6.000000</td>\n",
       "    </tr>\n",
       "    <tr>\n",
       "      <th>19</th>\n",
       "      <td>0-2</td>\n",
       "      <td>Jaipur, Ahmedabad</td>\n",
       "      <td>3.000000</td>\n",
       "      <td>6.000000</td>\n",
       "    </tr>\n",
       "    <tr>\n",
       "      <th>18</th>\n",
       "      <td>0-2</td>\n",
       "      <td>Jaipur</td>\n",
       "      <td>2.625000</td>\n",
       "      <td>5.000000</td>\n",
       "    </tr>\n",
       "    <tr>\n",
       "      <th>26</th>\n",
       "      <td>0-2</td>\n",
       "      <td>Noida</td>\n",
       "      <td>2.500000</td>\n",
       "      <td>5.000000</td>\n",
       "    </tr>\n",
       "    <tr>\n",
       "      <th>27</th>\n",
       "      <td>0-2</td>\n",
       "      <td>Pune</td>\n",
       "      <td>2.500000</td>\n",
       "      <td>6.000000</td>\n",
       "    </tr>\n",
       "    <tr>\n",
       "      <th>6</th>\n",
       "      <td>0-2</td>\n",
       "      <td>Chennai</td>\n",
       "      <td>2.000000</td>\n",
       "      <td>7.000000</td>\n",
       "    </tr>\n",
       "    <tr>\n",
       "      <th>20</th>\n",
       "      <td>0-2</td>\n",
       "      <td>Mohali</td>\n",
       "      <td>1.875000</td>\n",
       "      <td>5.750000</td>\n",
       "    </tr>\n",
       "    <tr>\n",
       "      <th>25</th>\n",
       "      <td>0-2</td>\n",
       "      <td>Nasik</td>\n",
       "      <td>1.500000</td>\n",
       "      <td>5.500000</td>\n",
       "    </tr>\n",
       "    <tr>\n",
       "      <th>3</th>\n",
       "      <td>0-2</td>\n",
       "      <td>Bengaluru(Panathur)</td>\n",
       "      <td>1.000000</td>\n",
       "      <td>6.000000</td>\n",
       "    </tr>\n",
       "    <tr>\n",
       "      <th>28</th>\n",
       "      <td>0-2</td>\n",
       "      <td>Surat</td>\n",
       "      <td>1.000000</td>\n",
       "      <td>6.000000</td>\n",
       "    </tr>\n",
       "  </tbody>\n",
       "</table>\n",
       "<p>212 rows × 4 columns</p>\n",
       "</div>"
      ],
      "text/plain": [
       "    exp_range                                location        min        max\n",
       "199  Freshers                                  Jaipur   8.000000  11.000000\n",
       "194  Freshers      Delhi NCR, Mumbai, Bengaluru, Pune   5.000000  10.000000\n",
       "205  Freshers      Mumbai, Bengaluru, Pune, Delhi NCR   4.500000   8.500000\n",
       "204  Freshers                 Mumbai, Bengaluru, Pune   4.000000   7.666667\n",
       "209  Freshers                             Pune(Baner)   4.000000   9.000000\n",
       "200  Freshers                                  Mumbai   3.750000   5.000000\n",
       "206  Freshers                                   Noida   3.500000   7.500000\n",
       "192  Freshers                      Delhi NCR, Gurgaon   3.000000   6.000000\n",
       "196  Freshers              Delhi NCR, Noida, Dehradun   3.000000   5.500000\n",
       "203  Freshers                           Mumbai(Powai)   3.000000   6.000000\n",
       "201  Freshers                          Mumbai Suburbs   2.500000   3.000000\n",
       "184  Freshers        Bengaluru(5th block Koramangala)   2.250000   5.500000\n",
       "195  Freshers                Delhi NCR, Mumbai, Delhi   2.250000   3.500000\n",
       "197  Freshers                               Hyderabad   2.250000   2.500000\n",
       "198  Freshers                Hyderabad, Pune, Kolkata   2.250000   5.000000\n",
       "185  Freshers          Bengaluru, Chennai, Coimbatore   2.000000   3.250000\n",
       "188  Freshers                  Chennai(Ashok Nagar+1)   2.000000   4.000000\n",
       "193  Freshers               Delhi NCR, Gurgaon, Noida   2.000000   4.250000\n",
       "210  Freshers                        Pune(Nagar Road)   2.000000   3.000000\n",
       "189  Freshers                       Chennai(Taramani)   1.750000   2.750000\n",
       "187  Freshers                                 Chennai   1.575000   1.875000\n",
       "202  Freshers                         Mumbai(Parel+1)   1.500000   3.750000\n",
       "208  Freshers                                    Pune   1.500000   6.000000\n",
       "182  Freshers                     Ahmedabad, Vadodara   1.250000   2.500000\n",
       "190  Freshers                              Coimbatore   1.250000   1.500000\n",
       "191  Freshers                               Delhi NCR   1.250000   2.500000\n",
       "207  Freshers                   Noida(Sector-2 Noida)   1.250000   3.000000\n",
       "211  Freshers                                Vadodara   1.250000   2.500000\n",
       "183  Freshers                               Bengaluru   1.125000   2.250000\n",
       "186  Freshers                      Chandigarh, Mohali   0.875000   2.875000\n",
       "..        ...                                     ...        ...        ...\n",
       "9         0-2                                   Delhi  15.000000  30.000000\n",
       "29        0-2                              Trivandrum  15.000000  25.000000\n",
       "5         0-2                        Bengaluru, Delhi  10.000000  15.000000\n",
       "14        0-2  Gurgaon(C Block Sushant Lok Phase - I)  10.000000  16.000000\n",
       "2         0-2                     Bengaluru(M.G Road)   7.000000  12.000000\n",
       "13        0-2                                 Gurgaon   7.000000   9.000000\n",
       "11        0-2             Delhi NCR(Sector-16A Noida)   5.000000  10.000000\n",
       "16        0-2               Gurgaon, Bengaluru, Delhi   5.000000   7.500000\n",
       "22        0-2                          Mumbai(Mumbra)   5.000000  10.000000\n",
       "24        0-2                     Mumbai, Navi Mumbai   4.750000   9.500000\n",
       "1         0-2                               Bengaluru   4.687500  11.187500\n",
       "0         0-2                               Ahmedabad   4.333333   7.666667\n",
       "23        0-2                  Mumbai, Mumbai Suburbs   4.000000   7.000000\n",
       "21        0-2                                  Mumbai   3.937500   5.062500\n",
       "15        0-2                    Gurgaon(Sikandarpur)   3.500000   6.000000\n",
       "17        0-2                               Hyderabad   3.500000   9.000000\n",
       "4         0-2               Bengaluru, Chennai, Kochi   3.000000   8.000000\n",
       "7         0-2                   Chennai(Anna Salai+2)   3.000000   7.000000\n",
       "8         0-2                              Coimbatore   3.000000   5.000000\n",
       "10        0-2                               Delhi NCR   3.000000   6.250000\n",
       "12        0-2                               Faridabad   3.000000   6.000000\n",
       "19        0-2                       Jaipur, Ahmedabad   3.000000   6.000000\n",
       "18        0-2                                  Jaipur   2.625000   5.000000\n",
       "26        0-2                                   Noida   2.500000   5.000000\n",
       "27        0-2                                    Pune   2.500000   6.000000\n",
       "6         0-2                                 Chennai   2.000000   7.000000\n",
       "20        0-2                                  Mohali   1.875000   5.750000\n",
       "25        0-2                                   Nasik   1.500000   5.500000\n",
       "3         0-2                     Bengaluru(Panathur)   1.000000   6.000000\n",
       "28        0-2                                   Surat   1.000000   6.000000\n",
       "\n",
       "[212 rows x 4 columns]"
      ]
     },
     "execution_count": 200,
     "metadata": {},
     "output_type": "execute_result"
    }
   ],
   "source": [
    "bins = [0.1, 2, 5, 10, 20]\n",
    "# bin 0 : x < 0.1\n",
    "# bin 1 : 0.1 >= x < 2\n",
    "# bin 2: 2 >= x < 5\n",
    "# bin 3: 5 >= x < 10\n",
    "# bin 4: 10 >= x < 20\n",
    "# bin 5: x > 20\n",
    "salaries['exp_range'] = salaries['min_exp'].apply(\n",
    "    lambda x: np.digitize(x, bins=bins)).replace({\n",
    "    0: 'Freshers',\n",
    "    1: '0-2',\n",
    "    2: '2-5',\n",
    "    3: '5-10',\n",
    "    4: '10-20',\n",
    "    5: 'Above 20'\n",
    "})\n",
    "(salaries.groupby(['exp_range','location'])[\n",
    "    'min', 'max'].mean() / 100000).reset_index().sort_values(\n",
    "    by=['exp_range','min'], ascending=False)"
   ]
  },
  {
   "cell_type": "code",
   "execution_count": null,
   "metadata": {},
   "outputs": [],
   "source": []
  }
 ],
 "metadata": {
  "kernelspec": {
   "display_name": "Python 3",
   "language": "python",
   "name": "python3"
  },
  "language_info": {
   "codemirror_mode": {
    "name": "ipython",
    "version": 3
   },
   "file_extension": ".py",
   "mimetype": "text/x-python",
   "name": "python",
   "nbconvert_exporter": "python",
   "pygments_lexer": "ipython3",
   "version": "3.6.8"
  }
 },
 "nbformat": 4,
 "nbformat_minor": 2
}
