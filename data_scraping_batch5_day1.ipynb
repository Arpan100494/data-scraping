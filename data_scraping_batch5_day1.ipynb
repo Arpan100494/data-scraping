{
  "nbformat": 4,
  "nbformat_minor": 0,
  "metadata": {
    "colab": {
      "name": "data-scraping-batch5-day1",
      "version": "0.3.2",
      "provenance": [],
      "collapsed_sections": []
    },
    "kernelspec": {
      "name": "python3",
      "display_name": "Python 3"
    }
  },
  "cells": [
    {
      "metadata": {
        "id": "jJSV7579v_7y",
        "colab_type": "code",
        "colab": {}
      },
      "cell_type": "code",
      "source": [
        "import bs4\n",
        "import pandas as pd\n",
        "import numpy as np\n",
        "import requests"
      ],
      "execution_count": 0,
      "outputs": []
    },
    {
      "metadata": {
        "id": "Ad8wTajzwIVj",
        "colab_type": "code",
        "outputId": "bfede4bd-f2c0-46bd-cc0b-2a293f086664",
        "colab": {
          "base_uri": "https://localhost:8080/",
          "height": 96
        }
      },
      "cell_type": "code",
      "source": [
        "wiki_url = \"https://en.wikipedia.org/wiki/Data_science\"\n",
        "page = requests.get(wiki_url).text\n",
        "bs_obj = bs4.BeautifulSoup(page)\n",
        "type(bs_obj)"
      ],
      "execution_count": 0,
      "outputs": [
        {
          "output_type": "execute_result",
          "data": {
            "text/plain": [
              "bs4.BeautifulSoup"
            ]
          },
          "metadata": {
            "tags": []
          },
          "execution_count": 3
        }
      ]
    },
    {
      "metadata": {
        "id": "WfaR-Rnxx0nd",
        "colab_type": "text"
      },
      "cell_type": "markdown",
      "source": [
        "## Get All Paragraphs"
      ]
    },
    {
      "metadata": {
        "id": "SaF_Yi3Zx2pL",
        "colab_type": "code",
        "outputId": "8099ceed-ea08-4332-f08e-f61d859b8493",
        "colab": {
          "base_uri": "https://localhost:8080/",
          "height": 96
        }
      },
      "cell_type": "code",
      "source": [
        "paras = bs_obj.findAll('p')\n",
        "type(paras)"
      ],
      "execution_count": 0,
      "outputs": [
        {
          "output_type": "execute_result",
          "data": {
            "text/plain": [
              "bs4.element.ResultSet"
            ]
          },
          "metadata": {
            "tags": []
          },
          "execution_count": 4
        }
      ]
    },
    {
      "metadata": {
        "id": "g3J5hMddxxjZ",
        "colab_type": "code",
        "colab": {}
      },
      "cell_type": "code",
      "source": [
        "#len(paras) # Identity number of paragraphs scraped\n",
        "# paras[1] # Get the second paragraph tag\n",
        "# paras[1].text # Get content of the tag"
      ],
      "execution_count": 0,
      "outputs": []
    },
    {
      "metadata": {
        "id": "d1bawCj01ReP",
        "colab_type": "code",
        "outputId": "dc6cb24a-f692-45d3-944c-049b075e9d05",
        "colab": {
          "base_uri": "https://localhost:8080/",
          "height": 116
        }
      },
      "cell_type": "code",
      "source": [
        "paras_text =  \n",
        "len(paras_text)\n",
        "paras_text[1]\n",
        "type(paras_text[1])\n",
        "paras_text[10]"
      ],
      "execution_count": 0,
      "outputs": [
        {
          "output_type": "execute_result",
          "data": {
            "text/plain": [
              "'Around 2007,[citation needed] Turing award winner Jim Gray envisioned \"data-driven science\" as a \"fourth paradigm\" of science that uses the computational analysis of large data as primary scientific method[4][5] and \"to have a world in which all of the science literature is online, all of the science data is online, and they interoperate with each other.\"[26]\\n'"
            ]
          },
          "metadata": {
            "tags": []
          },
          "execution_count": 22
        }
      ]
    },
    {
      "metadata": {
        "id": "peInI0I5xSQl",
        "colab_type": "code",
        "outputId": "06f22ae0-cebf-4ab9-b0fd-890fcf169b2f",
        "colab": {
          "base_uri": "https://localhost:8080/",
          "height": 116
        }
      },
      "cell_type": "code",
      "source": [
        "''.join(['a', 'b', 'c', 'd'])"
      ],
      "execution_count": 0,
      "outputs": [
        {
          "output_type": "execute_result",
          "data": {
            "text/plain": [
              "'abcd'"
            ]
          },
          "metadata": {
            "tags": []
          },
          "execution_count": 19
        }
      ]
    },
    {
      "metadata": {
        "id": "ByMBReLz3xRk",
        "colab_type": "code",
        "outputId": "a485db2a-a6d1-4d5f-8968-fde041306a5e",
        "colab": {
          "base_uri": "https://localhost:8080/",
          "height": 116
        }
      },
      "cell_type": "code",
      "source": [
        "wiki_text = ''.join(paras_text)\n",
        "wiki_text"
      ],
      "execution_count": 0,
      "outputs": [
        {
          "output_type": "execute_result",
          "data": {
            "text/plain": [
              "'\\nData science is an interdisciplinary field that uses scientific methods, processes, algorithms and systems to extract knowledge and insights from data in various forms, both structured and unstructured,[1][2] similar to data mining.\\nData science is a \"concept to unify statistics, data analysis, machine learning and their related methods\" in order to \"understand and analyze actual phenomena\" with data.[3] It employs techniques and theories drawn from many fields within the context of mathematics, statistics, information science, and computer science.\\nTuring award winner Jim Gray imagined data science as a \"fourth paradigm\" of science (empirical, theoretical, computational and now data-driven) and asserted that \"everything about science is changing because of the impact of information technology\" and the data deluge.[4][5]\\nIn 2012, when Harvard Business Review called it \"The Sexiest Job of the 21st Century\",[6] the term \"data science\" became a buzzword.  It is now often used interchangeably with earlier concepts like business analytics,[7] business intelligence, predictive modeling, and statistics.  Even the suggestion that data science is sexy was paraphrasing Hans Rosling, featured in a 2011 BBC documentary with the quote, \"Statistics is now the sexiest subject around.\"[8] Nate Silver referred to data science as a sexed up term for statistics.[9]   In many cases, earlier approaches and solutions are now simply rebranded as \"data science\" to be more attractive, which can cause the term to become \"dilute[d] beyond usefulness.\"[10] While many university programs now offer a data science degree, there exists no consensus on a definition or suitable curriculum contents.[7] To its discredit, however, many data-science and big-data projects fail to deliver useful results, often as a result of poor management and utilization of resources.[11][12][13][14]\\nThe term \"data science\" has appeared in various contexts over the past thirty years but did not become an established term until recently. In an early usage, it was used as a substitute for computer science by Peter Naur in 1960. Naur later introduced the term \"datalogy\".[15] In 1974, Naur published Concise Survey of Computer Methods, which freely used the term data science in its survey of the contemporary data processing methods that are used in a wide range of applications.\\nIn 1996, members of the International Federation of Classification Societies (IFCS) met in Kobe for their biennial conference. Here, for the first time, the term data science is included in the title of the conference (\"Data Science, classification, and related methods\"),[16] after the term was introduced in a roundtable discussion by Chikio Hayashi.[3]\\nIn November 1997, C.F. Jeff Wu gave the inaugural lecture entitled \"Statistics = Data Science?\"[17] for his appointment to the H. C. Carver Professorship at the University of Michigan.[18]\\nIn this lecture, he characterized statistical work as a trilogy of data collection, data modeling and analysis, and decision making. In his conclusion,\\nhe initiated the modern, non-computer science, usage of the term \"data science\" and advocated that statistics be renamed data science and statisticians data scientists.[17]\\nLater, he presented his lecture entitled \"Statistics = Data Science?\" as the first of his 1998 P.C. Mahalanobis Memorial Lectures.[19] These lectures honor Prasanta Chandra Mahalanobis, an Indian scientist and statistician and founder of the Indian Statistical Institute.\\nIn 2001, William S. Cleveland introduced data science as an independent discipline, extending the field of statistics to incorporate \"advances in computing with data\" in his article \"Data Science: An Action Plan for Expanding the Technical Areas of the Field of Statistics,\" which was published in Volume 69, No. 1, of the April 2001 edition of the International Statistical Review / Revue Internationale de Statistique.[20] In his report, Cleveland establishes six technical areas which he believed to encompass the field of data science: multidisciplinary investigations, models and methods for data, computing with data, pedagogy, tool evaluation, and theory.\\nIn April 2002, the International Council for Science (ICSU): Committee on Data for Science and Technology (CODATA)[21] started the Data Science Journal,[22] a publication focused on issues such as the description of data systems, their publication on the internet, applications and legal issues.[23] Shortly thereafter, in January 2003, Columbia University began publishing The Journal of Data Science,[24] which provided a platform for all data workers to present their views and exchange ideas. The journal was largely devoted to the application of statistical methods and quantitative research. In 2005, The National Science Board published \"Long-lived Digital Data Collections: Enabling Research and Education in the 21st Century\" defining data scientists as \"the information and computer scientists, database and software and programmers, disciplinary experts, curators and expert annotators, librarians, archivists, and others, who are crucial to the successful management of a digital data collection\" whose primary activity is to \"conduct creative inquiry and analysis.\"[25]\\nAround 2007,[citation needed] Turing award winner Jim Gray envisioned \"data-driven science\" as a \"fourth paradigm\" of science that uses the computational analysis of large data as primary scientific method[4][5] and \"to have a world in which all of the science literature is online, all of the science data is online, and they interoperate with each other.\"[26]\\nIn the 2012 Harvard Business Review article \"Data Scientist: The Sexiest Job of the 21st Century\",[6] DJ Patil claims to have coined this term in 2008 with Jeff Hammerbacher to define their jobs at LinkedIn and Facebook, respectively. He asserts that a data scientist is \"a new breed\", and that a \"shortage of data scientists is becoming a serious constraint in some sectors\", but describes a much more business-oriented role.\\nIn 2013, the IEEE Task Force on Data Science and Advanced Analytics[27] was launched. In 2013, the first \"European Conference on Data Analysis (ECDA)\" was organised in Luxembourg, establishing the European Association for Data Science (EuADS). The first international conference: IEEE International Conference on Data Science and Advanced Analytics was launched in 2014.[28] In 2014, General Assembly launched student-paid bootcamp and The Data Incubator launched a competitive free data science fellowship.[29]  In 2014, the American Statistical Association section on Statistical Learning and Data Mining renamed its journal to \"Statistical Analysis and Data Mining: The ASA Data Science Journal\" and in 2016 changed its section name to \"Statistical Learning and Data Science\".[30]  In 2015, the International Journal on Data Science and Analytics[31] was launched by Springer to publish original work on data science and big data analytics.  In September 2015 the Gesellschaft für Klassifikation (GfKl) added to the name of the Society \"Data Science Society\" at the third ECDA conference at the University of Essex, Colchester, UK.\\nThe popularity of the term \"data science\" has exploded in business environments and academia, as indicated by a jump in job openings.[32] However, many critical academics and journalists see no distinction between data science and statistics. Writing in Forbes, Gil Press argues that data science is a buzzword without a clear definition and has simply replaced “business analytics” in contexts such as graduate degree programs.[7] In the question-and-answer section of his keynote address at the Joint Statistical Meetings of American Statistical Association, noted applied statistician Nate Silver said, “I think data-scientist is a sexed up term for a statistician....Statistics is a branch of science. Data scientist is slightly redundant in some way and people shouldn’t berate the term statistician.”[9] Similarly, in business sector, multiple researchers and analysts state that data scientists alone are far from being sufficient in granting companies a real competitive advantage[33] and consider data scientists as only one of the four greater job families companies require to leverage big data effectively, namely: data analysts, data scientists, big data developers and big data engineers.[34]\\nOn the other hand, responses to criticism are as numerous. In a 2014 Wall Street Journal article, Irving Wladawsky-Berger compares the data science enthusiasm with the dawn of computer science. He argues data science, like any other interdisciplinary field, employs methodologies and practices from across the academia and industry, but then it will morph them into a new discipline. He brings to attention the sharp criticisms computer science, now a well respected academic discipline, had to once face.[35] Likewise, NYU Stern\\'s Vasant Dhar, as do many other academic proponents of data science,[35] argues more specifically in December 2013 that data science is different from the existing practice of data analysis across all disciplines, which focuses only on explaining data sets. Data science seeks actionable and consistent pattern for predictive uses.[1]  This practical engineering goal takes data science beyond traditional analytics. Now the data in those disciplines and applied fields that lacked solid theories, like health science and social science, could be sought and utilized to generate powerful predictive models.[1]\\nIn an effort similar to Dhar\\'s, Stanford professor David Donoho, in September 2015, takes the proposition further by rejecting three simplistic and misleading definitions of data science in lieu of criticisms.[36] First, for Donoho, data science does not equate to big data, in that the size of the data set is not a criterion to distinguish data science and statistics.[36] Second, data science is not defined by the computing skills of sorting big data sets, in that these skills are already generally used for analyses across all disciplines.[36] Third, data science is a heavily applied field where academic programs right now do not sufficiently prepare data scientists for the jobs, in that many graduate programs misleadingly advertise their analytics and statistics training as the essence of a data science program.[36][37] As a statistician, Donoho, following many in his field, champions the broadening of learning scope in the form of data science,[36] like John Chambers who urges statisticians to adopt an inclusive concept of learning from data,[38] or like William Cleveland who urges to prioritize extracting from data applicable predictive tools over explanatory theories.[20] Together, these statisticians envision an increasingly inclusive applied field that grows out of traditional statistics and beyond.\\nFor the future of data science, Donoho projects an ever-growing environment for open science where data sets used for academic publications are accessible to all researchers.[36] US National Institute of Health has already announced plans to enhance reproducibility and transparency of research data.[39] Other big journals are likewise following suit.[40][41] This way, the future of data science not only exceeds the boundary of statistical theories in scale and methodology, but data science will revolutionize current academia and research paradigms.[36] As Donoho concludes, \"the scope and impact of data science will continue to expand enormously in coming decades as scientific data and data about science itself become ubiquitously available.\"[36]\\n'"
            ]
          },
          "metadata": {
            "tags": []
          },
          "execution_count": 23
        }
      ]
    },
    {
      "metadata": {
        "id": "-DdGdNv_BYA3",
        "colab_type": "code",
        "colab": {}
      },
      "cell_type": "code",
      "source": [
        "monster_url = 'https://www.monsterindia.com/data-science-jobs.html'\n",
        "page = requests.get(monster_url).text\n",
        "bs_obj = bs4.BeautifulSoup(page, 'html.parser')"
      ],
      "execution_count": 0,
      "outputs": []
    },
    {
      "metadata": {
        "id": "eIrwHci5Fh1Y",
        "colab_type": "code",
        "outputId": "9282e198-9046-4f63-d624-b217fc4214fd",
        "colab": {
          "base_uri": "https://localhost:8080/",
          "height": 116
        }
      },
      "cell_type": "code",
      "source": [
        "titles = bs_obj.findAll('span', {'class': 'title_in'})\n",
        "len(titles)"
      ],
      "execution_count": 0,
      "outputs": [
        {
          "output_type": "execute_result",
          "data": {
            "text/plain": [
              "40"
            ]
          },
          "metadata": {
            "tags": []
          },
          "execution_count": 31
        }
      ]
    },
    {
      "metadata": {
        "id": "y_yRwNPHQbFn",
        "colab_type": "code",
        "outputId": "4fa7ce66-e2c4-4b9f-d754-96c461609434",
        "colab": {
          "base_uri": "https://localhost:8080/",
          "height": 116
        }
      },
      "cell_type": "code",
      "source": [
        "#titles[0].text"
      ],
      "execution_count": 0,
      "outputs": [
        {
          "output_type": "execute_result",
          "data": {
            "text/plain": [
              "'Data Scientist'"
            ]
          },
          "metadata": {
            "tags": []
          },
          "execution_count": 38
        }
      ]
    },
    {
      "metadata": {
        "id": "TDru6P3uOH65",
        "colab_type": "code",
        "outputId": "bb88af9f-06c1-4c10-e8fa-b68460ce6061",
        "colab": {
          "base_uri": "https://localhost:8080/",
          "height": 320
        }
      },
      "cell_type": "code",
      "source": [
        "job_titles = [job.text for job in titles]"
      ],
      "execution_count": 0,
      "outputs": [
        {
          "output_type": "error",
          "ename": "AttributeError",
          "evalue": "ignored",
          "traceback": [
            "\u001b[0;31m---------------------------------------------------------------------------\u001b[0m",
            "\u001b[0;31mAttributeError\u001b[0m                            Traceback (most recent call last)",
            "\u001b[0;32m<ipython-input-95-887cf7acab41>\u001b[0m in \u001b[0;36m<module>\u001b[0;34m()\u001b[0m\n\u001b[0;32m----> 1\u001b[0;31m \u001b[0mjob_titles\u001b[0m \u001b[0;34m=\u001b[0m \u001b[0;34m[\u001b[0m\u001b[0mjob\u001b[0m\u001b[0;34m.\u001b[0m\u001b[0mtext\u001b[0m \u001b[0;32mfor\u001b[0m \u001b[0mjob\u001b[0m \u001b[0;32min\u001b[0m \u001b[0mtitles\u001b[0m\u001b[0;34m]\u001b[0m\u001b[0;34m\u001b[0m\u001b[0;34m\u001b[0m\u001b[0m\n\u001b[0m",
            "\u001b[0;32m<ipython-input-95-887cf7acab41>\u001b[0m in \u001b[0;36m<listcomp>\u001b[0;34m(.0)\u001b[0m\n\u001b[0;32m----> 1\u001b[0;31m \u001b[0mjob_titles\u001b[0m \u001b[0;34m=\u001b[0m \u001b[0;34m[\u001b[0m\u001b[0mjob\u001b[0m\u001b[0;34m.\u001b[0m\u001b[0mtext\u001b[0m \u001b[0;32mfor\u001b[0m \u001b[0mjob\u001b[0m \u001b[0;32min\u001b[0m \u001b[0mtitles\u001b[0m\u001b[0;34m]\u001b[0m\u001b[0;34m\u001b[0m\u001b[0;34m\u001b[0m\u001b[0m\n\u001b[0m",
            "\u001b[0;31mAttributeError\u001b[0m: 'str' object has no attribute 'text'"
          ]
        }
      ]
    },
    {
      "metadata": {
        "id": "sshER6OrRK7M",
        "colab_type": "code",
        "outputId": "9b725159-ed13-4ba2-c8ca-a744bd41b873",
        "colab": {
          "base_uri": "https://localhost:8080/",
          "height": 76
        }
      },
      "cell_type": "code",
      "source": [
        "companies = bs_obj.findAll('div', {'class': 'jtxt orange'})\n",
        "len(companies)\n",
        "companies[0]"
      ],
      "execution_count": 0,
      "outputs": [
        {
          "output_type": "execute_result",
          "data": {
            "text/plain": [
              "<div class=\"jtxt orange\"><a class=\"jtxt orange\" href=\"//www.monsterindia.com/tuzen-technologies-private-limited-343665-jobs-careers.html\" target=\"_blank\" title=\"Tuzen Technologies Private Limited\"><span>Tuzen Technologies Private Limited</span></a></div>"
            ]
          },
          "metadata": {
            "tags": []
          },
          "execution_count": 43
        }
      ]
    },
    {
      "metadata": {
        "id": "TnbIP1eDh77G",
        "colab_type": "code",
        "outputId": "43927a39-52a4-4f06-f538-d9dbb4f4565f",
        "colab": {
          "base_uri": "https://localhost:8080/",
          "height": 76
        }
      },
      "cell_type": "code",
      "source": [
        "# Method 1: Get text directly\n",
        "companies[0].text"
      ],
      "execution_count": 0,
      "outputs": [
        {
          "output_type": "execute_result",
          "data": {
            "text/plain": [
              "'Tuzen Technologies Private Limited'"
            ]
          },
          "metadata": {
            "tags": []
          },
          "execution_count": 44
        }
      ]
    },
    {
      "metadata": {
        "id": "DNmV3_eli7E4",
        "colab_type": "code",
        "outputId": "a9f2d89b-e35f-4ae3-a4e3-e73e4baeba61",
        "colab": {
          "base_uri": "https://localhost:8080/",
          "height": 76
        }
      },
      "cell_type": "code",
      "source": [
        "# Method 2: Search for anchor tag (child) and get its title attritute\n",
        "\n",
        "companies[3].find('a',{'class': 'jtxt orange'}).get('title')"
      ],
      "execution_count": 0,
      "outputs": [
        {
          "output_type": "execute_result",
          "data": {
            "text/plain": [
              "'Talent HR Networks Private Limited'"
            ]
          },
          "metadata": {
            "tags": []
          },
          "execution_count": 57
        }
      ]
    },
    {
      "metadata": {
        "id": "GeJJEC2ZklNy",
        "colab_type": "code",
        "outputId": "05c7fb16-8d12-4ecf-de7e-e6a2c0a37f82",
        "colab": {
          "base_uri": "https://localhost:8080/",
          "height": 260
        }
      },
      "cell_type": "code",
      "source": [
        "[x.find('a',{'class': 'jtxt orange'}).get('title')"
      ],
      "execution_count": 0,
      "outputs": [
        {
          "output_type": "error",
          "ename": "AttributeError",
          "evalue": "ignored",
          "traceback": [
            "\u001b[0;31m---------------------------------------------------------------------------\u001b[0m",
            "\u001b[0;31mAttributeError\u001b[0m                            Traceback (most recent call last)",
            "\u001b[0;32m<ipython-input-54-87eb5c12474a>\u001b[0m in \u001b[0;36m<module>\u001b[0;34m()\u001b[0m\n\u001b[0;32m----> 1\u001b[0;31m \u001b[0;34m[\u001b[0m\u001b[0mx\u001b[0m\u001b[0;34m.\u001b[0m\u001b[0mfind\u001b[0m\u001b[0;34m(\u001b[0m\u001b[0;34m'a'\u001b[0m\u001b[0;34m,\u001b[0m\u001b[0;34m{\u001b[0m\u001b[0;34m'class'\u001b[0m\u001b[0;34m:\u001b[0m \u001b[0;34m'jtxt orange'\u001b[0m\u001b[0;34m}\u001b[0m\u001b[0;34m)\u001b[0m\u001b[0;34m.\u001b[0m\u001b[0mget\u001b[0m\u001b[0;34m(\u001b[0m\u001b[0;34m'title'\u001b[0m\u001b[0;34m)\u001b[0m \u001b[0;32mfor\u001b[0m \u001b[0mx\u001b[0m \u001b[0;32min\u001b[0m \u001b[0mcompanies\u001b[0m\u001b[0;34m]\u001b[0m\u001b[0;34m\u001b[0m\u001b[0;34m\u001b[0m\u001b[0m\n\u001b[0m",
            "\u001b[0;32m<ipython-input-54-87eb5c12474a>\u001b[0m in \u001b[0;36m<listcomp>\u001b[0;34m(.0)\u001b[0m\n\u001b[0;32m----> 1\u001b[0;31m \u001b[0;34m[\u001b[0m\u001b[0mx\u001b[0m\u001b[0;34m.\u001b[0m\u001b[0mfind\u001b[0m\u001b[0;34m(\u001b[0m\u001b[0;34m'a'\u001b[0m\u001b[0;34m,\u001b[0m\u001b[0;34m{\u001b[0m\u001b[0;34m'class'\u001b[0m\u001b[0;34m:\u001b[0m \u001b[0;34m'jtxt orange'\u001b[0m\u001b[0;34m}\u001b[0m\u001b[0;34m)\u001b[0m\u001b[0;34m.\u001b[0m\u001b[0mget\u001b[0m\u001b[0;34m(\u001b[0m\u001b[0;34m'title'\u001b[0m\u001b[0;34m)\u001b[0m \u001b[0;32mfor\u001b[0m \u001b[0mx\u001b[0m \u001b[0;32min\u001b[0m \u001b[0mcompanies\u001b[0m\u001b[0;34m]\u001b[0m\u001b[0;34m\u001b[0m\u001b[0;34m\u001b[0m\u001b[0m\n\u001b[0m",
            "\u001b[0;31mAttributeError\u001b[0m: 'NoneType' object has no attribute 'get'"
          ]
        }
      ]
    },
    {
      "metadata": {
        "id": "k2Icz37om5H4",
        "colab_type": "code",
        "outputId": "ddb9819e-f0f4-4872-fd7a-dc535e0caf5f",
        "colab": {
          "base_uri": "https://localhost:8080/",
          "height": 136
        }
      },
      "cell_type": "code",
      "source": [
        "companies_titles = []\n",
        "companies = bs_obj.findAll('div', {'class': 'jtxt orange'})     \n",
        "for i, company in enumerate(companies):\n",
        "  try:\n",
        "    title = company.find('a', {'class': 'jtxt orange'}).get('title')\n",
        "    companies_titles.append(title)\n",
        "  except AttributeError:\n",
        "    print(i)\n",
        "    companies_titles.append(float('nan'))\n",
        "#titles"
      ],
      "execution_count": 0,
      "outputs": [
        {
          "output_type": "stream",
          "text": [
            "9\n"
          ],
          "name": "stdout"
        }
      ]
    },
    {
      "metadata": {
        "id": "r9K3orviwhOo",
        "colab_type": "code",
        "outputId": "082a0d1e-f56c-4b5e-c7e6-406ed0166646",
        "colab": {
          "base_uri": "https://localhost:8080/",
          "height": 821
        }
      },
      "cell_type": "code",
      "source": [
        "locations = bs_obj.findAll('div', {'class': 'jtxt jico ico1'})\n",
        "\n",
        "[loc.text for i, loc in enumerate(locations)]"
      ],
      "execution_count": 0,
      "outputs": [
        {
          "output_type": "execute_result",
          "data": {
            "text/plain": [
              "['Bengaluru / Bangalore',\n",
              " 'Bengaluru / Bangalore',\n",
              " 'Bengaluru / Bangalore',\n",
              " 'Bengaluru / Bangalore',\n",
              " 'Bengaluru / Bangalore',\n",
              " 'Bengaluru / Bangalore',\n",
              " 'Mumbai',\n",
              " 'Bengaluru / Bangalore',\n",
              " 'Bengaluru / Bangalore, Other International',\n",
              " 'Bengaluru / Bangalore, Hyderabad / Secunderabad',\n",
              " 'Hyderabad / Secunderabad',\n",
              " 'Bengaluru / Bangalore',\n",
              " 'Hyderabad / Secunderabad',\n",
              " 'Mumbai',\n",
              " 'Mumbai, Pune',\n",
              " 'Bengaluru / Bangalore, Chennai',\n",
              " 'Bengaluru / Bangalore',\n",
              " 'Bengaluru / Bangalore',\n",
              " 'Hyderabad / Secunderabad',\n",
              " 'Singapore',\n",
              " 'Ahmedabad',\n",
              " 'Bengaluru / Bangalore',\n",
              " 'Bengaluru / Bangalore, Hyderabad / Secunderabad',\n",
              " 'Hyderabad / Secunderabad',\n",
              " 'Delhi, Noida',\n",
              " 'Gurgaon, Pune',\n",
              " 'Bengaluru / Bangalore, Mumbai',\n",
              " 'Noida',\n",
              " 'Bengaluru / Bangalore',\n",
              " 'Hyderabad / Secunderabad, Mumbai',\n",
              " 'Hyderabad / Secunderabad',\n",
              " 'Bengaluru / Bangalore',\n",
              " 'Bengaluru / Bangalore, Gurgaon',\n",
              " 'Bengaluru / Bangalore',\n",
              " 'Hyderabad / Secunderabad',\n",
              " 'Bengaluru / Bangalore',\n",
              " 'Bengaluru / Bangalore',\n",
              " 'Bengaluru / Bangalore',\n",
              " 'Bengaluru / Bangalore',\n",
              " 'Bengaluru / Bangalore']"
            ]
          },
          "metadata": {
            "tags": []
          },
          "execution_count": 93
        }
      ]
    },
    {
      "metadata": {
        "id": "1zN4OHcvsCvX",
        "colab_type": "code",
        "outputId": "3bfd8525-948b-4024-ea09-ae8fe1f2650e",
        "colab": {
          "base_uri": "https://localhost:8080/",
          "height": 396
        }
      },
      "cell_type": "code",
      "source": [
        "job_titles_obj = bs_obj.findAll('span', {'class': 'title_in'})\n",
        "job_titles = [job.text for job in job_titles_obj]\n",
        "\n",
        "companies_titles = []\n",
        "companies_obj = bs_obj.findAll('div', {'class': 'jtxt orange'})     \n",
        "for i, company in enumerate(companies_obj):\n",
        "  try:\n",
        "    title = company.find('a', {'class': 'jtxt orange'}).get('title')\n",
        "    companies_titles.append(title)\n",
        "  except AttributeError:\n",
        "    #print(i)\n",
        "    companies_titles.append(float('nan'))\n",
        "    \n",
        "\n",
        "locations_obj = bs_obj.findAll('div', {'class': 'jtxt jico ico1'})\n",
        "locations = [loc.text for i, loc in enumerate(locations_obj)]\n",
        "\n",
        "jobs_data = pd.DataFrame({\n",
        "    'title': job_titles,\n",
        "    'company': companies_titles,\n",
        "    'location': locations\n",
        "})\n",
        "jobs_data.head()"
      ],
      "execution_count": 0,
      "outputs": [
        {
          "output_type": "execute_result",
          "data": {
            "text/html": [
              "<div>\n",
              "<style scoped>\n",
              "    .dataframe tbody tr th:only-of-type {\n",
              "        vertical-align: middle;\n",
              "    }\n",
              "\n",
              "    .dataframe tbody tr th {\n",
              "        vertical-align: top;\n",
              "    }\n",
              "\n",
              "    .dataframe thead th {\n",
              "        text-align: right;\n",
              "    }\n",
              "</style>\n",
              "<table border=\"1\" class=\"dataframe\">\n",
              "  <thead>\n",
              "    <tr style=\"text-align: right;\">\n",
              "      <th></th>\n",
              "      <th>company</th>\n",
              "      <th>location</th>\n",
              "      <th>title</th>\n",
              "    </tr>\n",
              "  </thead>\n",
              "  <tbody>\n",
              "    <tr>\n",
              "      <th>0</th>\n",
              "      <td>Tuzen Technologies Private Limited</td>\n",
              "      <td>Bengaluru / Bangalore</td>\n",
              "      <td>Data Scientist</td>\n",
              "    </tr>\n",
              "    <tr>\n",
              "      <th>1</th>\n",
              "      <td>Inspiration Manpower Consultancy Private Limited</td>\n",
              "      <td>Bengaluru / Bangalore</td>\n",
              "      <td>Data Science Engineer Jobs in Bangalore</td>\n",
              "    </tr>\n",
              "    <tr>\n",
              "      <th>2</th>\n",
              "      <td>Multi Recruit</td>\n",
              "      <td>Bengaluru / Bangalore</td>\n",
              "      <td>Data Analyst / Scientist</td>\n",
              "    </tr>\n",
              "    <tr>\n",
              "      <th>3</th>\n",
              "      <td>Talent HR Networks Private Limited</td>\n",
              "      <td>Bengaluru / Bangalore</td>\n",
              "      <td>Looking  Data Scientist In Bangalore Location</td>\n",
              "    </tr>\n",
              "    <tr>\n",
              "      <th>4</th>\n",
              "      <td>Inspiration Manpower Consultancy Private Limited</td>\n",
              "      <td>Bengaluru / Bangalore</td>\n",
              "      <td>Data Scientist</td>\n",
              "    </tr>\n",
              "  </tbody>\n",
              "</table>\n",
              "</div>"
            ],
            "text/plain": [
              "                                            company               location  \\\n",
              "0                Tuzen Technologies Private Limited  Bengaluru / Bangalore   \n",
              "1  Inspiration Manpower Consultancy Private Limited  Bengaluru / Bangalore   \n",
              "2                                     Multi Recruit  Bengaluru / Bangalore   \n",
              "3                Talent HR Networks Private Limited  Bengaluru / Bangalore   \n",
              "4  Inspiration Manpower Consultancy Private Limited  Bengaluru / Bangalore   \n",
              "\n",
              "                                           title  \n",
              "0                                 Data Scientist  \n",
              "1        Data Science Engineer Jobs in Bangalore  \n",
              "2                       Data Analyst / Scientist  \n",
              "3  Looking  Data Scientist In Bangalore Location  \n",
              "4                                 Data Scientist  "
            ]
          },
          "metadata": {
            "tags": []
          },
          "execution_count": 101
        }
      ]
    },
    {
      "metadata": {
        "id": "WOugW6_5OptM",
        "colab_type": "text"
      },
      "cell_type": "markdown",
      "source": [
        "## Method Two: Go Job Wise\n"
      ]
    },
    {
      "metadata": {
        "id": "8FDcslZ8OoS1",
        "colab_type": "code",
        "outputId": "4654f932-0f9b-47b2-c686-4d99050c8da7",
        "colab": {
          "base_uri": "https://localhost:8080/",
          "height": 96
        }
      },
      "cell_type": "code",
      "source": [
        "job_parents = bs_obj.findAll('div', {'class': 'jobwrap',\n",
        "                                     'type': 'tuple'})\n",
        "len(job_parents)"
      ],
      "execution_count": 0,
      "outputs": [
        {
          "output_type": "execute_result",
          "data": {
            "text/plain": [
              "40"
            ]
          },
          "metadata": {
            "tags": []
          },
          "execution_count": 102
        }
      ]
    },
    {
      "metadata": {
        "id": "ot8VfanRP97R",
        "colab_type": "code",
        "outputId": "918ed47a-c30f-469b-807e-03de8f03f2a4",
        "colab": {
          "base_uri": "https://localhost:8080/",
          "height": 781
        }
      },
      "cell_type": "code",
      "source": [
        "for job in job_parents:\n",
        "  job_id = job.get('id')\n",
        "  job_title = job.find('span', {'class': 'title_in'}).text\n",
        "  print(job_id, job_title)"
      ],
      "execution_count": 0,
      "outputs": [
        {
          "output_type": "stream",
          "text": [
            "23085341 Data Scientist\n",
            "23072893 Data Science Engineer Jobs in Bangalore\n",
            "23080055 Data Analyst / Scientist\n",
            "23075518 Looking  Data Scientist In Bangalore Location\n",
            "23074832 Data Scientist\n",
            "23073942 Data Scientist\n",
            "22225602 Research Analyst, Executive Search\n",
            "23028436 Python Developers - FRESHERS 2016 / 2017 / 2018\n",
            "23025437 Data Scientist (Onsite in Kuala Lumpur- Immediate joinings required)\n",
            "23014245 Hiring  Data Science Online Trainer / Instructor\n",
            "23087414 Excellent Job Opportunity on  Data Science for Freshers\n",
            "22998737 Data Scientist\n",
            "23074521 Excellent Job Opportunity on  Data Science for IIT / NIT / BITS or Other top tier -I Candidates\n",
            "23000420 ETL Lead &  Data Science\n",
            "23000417 ETL Lead &  Data Science\n",
            "23000415 ETL Lead &  Data Science\n",
            "22993047 \" Data Science\" \"Machine Learning\", \"Python\"\n",
            "22962858 Powerbi Admin\n",
            "22962734 Looking for Project Manager Hyderabad\n",
            "22957491 Singapore | JOB | Sr. Machine Learning Engineer | 1 Year Contract\n",
            "22943607 Technical Content Writer\n",
            "22940435 Data Scientist and Analyst\n",
            "23005144 internship on  Data science\n",
            "22891369 Data Science (Jupyter / Azure ML / MatLab)\n",
            "22891366 Data Science (Jupyter / Azure ML / MatLab)\n",
            "22891362 Data Science (Jupyter / Azure ML / MatLab)\n",
            "22891357 Data Science (Jupyter / Azure ML / MatLab)\n",
            "22885718 Lecturer  Data Science - Statistics, R - Noida - (Job Id:3183)\n",
            "22885451 Data Science\n",
            "22511273 Data Scientist\n",
            "22902398 Data Scientist\n",
            "22892051 Artificial Intelligence & Machine Learning\n",
            "22888912 Artificial Intelligence & Machine learning (SME ) for Bangalore / Gurgaon with 4 - 8 yrs of Experience\n",
            "22861405 Urgent Opening For  DATA Science\n",
            "22877015 Data Analyst\n",
            "22867351 Solution Architect- Machine learning\n",
            "22866300 Excellent Job Opportunity with Indegene for  Data Scientist ROle\n",
            "22863519 Senior / Lead Search Relevance Engineer\n",
            "22861434 Hiring for  Data Scientist @ Banaglore MNC\n",
            "22861415 Huge Hiring for  Data Scientist @ Banaglore in Leading MNC\n"
          ],
          "name": "stdout"
        }
      ]
    },
    {
      "metadata": {
        "id": "5ZcgjMBoK0yo",
        "colab_type": "code",
        "colab": {}
      },
      "cell_type": "code",
      "source": [
        "# This is for my research purpose.\n",
        "# I am going to scrape live tweets for latest movies and identify\n",
        "# sentiment for each tweets. I will be doing exploratory data analysis\n",
        "# and presenting the results in rich visuals. I will also be doing\n",
        "# Topic modelling, document clustering. I will also create one\n",
        "# social media monitor."
      ],
      "execution_count": 0,
      "outputs": []
    }
  ]
}