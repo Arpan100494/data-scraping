{
 "cells": [
  {
   "cell_type": "markdown",
   "metadata": {},
   "source": [
    "# Day 4\n",
    "## So far\n",
    "- Text cleaning\n",
    "- Convert text to document term matrix\n",
    "- Properties of document term matrix\n",
    "- Text classification (naive bayes algorithm)\n",
    "- Sentiment Analysis\n",
    "    - Supervised algorithm\n",
    "    - VADER\n",
    "- Text clustering/ Topic Modelling\n",
    "- Basics of web scraping\n",
    "- Text summarization\n",
    "- Chat bot introduction\n",
    "## Topics\n",
    "- Case study: Reviews from Zomato website\n",
    "    - Web scraping\n",
    "    - Exploratory Data Analysis\n",
    "    - Sentiment Analysis\n",
    "    - Sentiment classifier\n",
    "    - Recommendation system\n",
    "    - Topic modelling\n",
    "- Twitter web scraping\n",
    "- Bigrams/Trigrams, word similarity, Lemmatization\n",
    "- Chatbot"
   ]
  },
  {
   "cell_type": "markdown",
   "metadata": {},
   "source": [
    "## Case study/ Project: Zomato Reviews"
   ]
  },
  {
   "cell_type": "code",
   "execution_count": 2,
   "metadata": {},
   "outputs": [],
   "source": [
    "# !pip install selenium"
   ]
  },
  {
   "cell_type": "code",
   "execution_count": 32,
   "metadata": {},
   "outputs": [],
   "source": [
    "from selenium import webdriver\n",
    "import pandas as pd"
   ]
  },
  {
   "cell_type": "code",
   "execution_count": 67,
   "metadata": {},
   "outputs": [],
   "source": [
    "browser = webdriver.Firefox()"
   ]
  },
  {
   "cell_type": "code",
   "execution_count": 23,
   "metadata": {},
   "outputs": [],
   "source": [
    "url = 'https://www.zomato.com/hyderabad/great-food-no-bull'\n",
    "browser.get(url)"
   ]
  },
  {
   "cell_type": "code",
   "execution_count": 61,
   "metadata": {},
   "outputs": [
    {
     "data": {
      "text/plain": [
       "0"
      ]
     },
     "execution_count": 61,
     "metadata": {},
     "output_type": "execute_result"
    }
   ],
   "source": [
    "res_tags = browser.find_elements_by_css_selector('div.relative.top-res-box.entity-ads-snippet-track')\n",
    "len(res_tags)"
   ]
  },
  {
   "cell_type": "code",
   "execution_count": 36,
   "metadata": {},
   "outputs": [],
   "source": [
    "restaurants = pd.DataFrame()\n",
    "for res in res_tags:\n",
    "    title = res.find_element_by_css_selector('div.res_title').text\n",
    "    loc_sel = 'div.nowrap.grey-text.fontsize5.ttupper'\n",
    "    loc = res.find_element_by_css_selector(loc_sel).text\n",
    "    food_type = res.find_elements_by_css_selector('div.nowrap.grey-text')\n",
    "    food_type = food_type[1].text\n",
    "    res_id = res.get_attribute('data-res-id')\n",
    "    rating = res.get_attribute('data-rating')\n",
    "    url = res.find_element_by_css_selector('a[data-link-type]')\n",
    "    url = url.get_attribute('href')\n",
    "    curr_res = {'title': title, 'location': loc, 'food_type': food_type,\n",
    "                'res_id': res_id, 'rating': rating, 'url': url}\n",
    "    restaurants = restaurants.append(curr_res, ignore_index=True)"
   ]
  },
  {
   "cell_type": "code",
   "execution_count": 39,
   "metadata": {},
   "outputs": [],
   "source": [
    "#restaurants.head()"
   ]
  },
  {
   "cell_type": "code",
   "execution_count": null,
   "metadata": {},
   "outputs": [],
   "source": []
  },
  {
   "cell_type": "code",
   "execution_count": 42,
   "metadata": {},
   "outputs": [],
   "source": [
    "url = restaurants.loc[0, 'url']\n",
    "browser.get(url)"
   ]
  },
  {
   "cell_type": "code",
   "execution_count": 59,
   "metadata": {},
   "outputs": [],
   "source": [
    "import time\n",
    "while True:\n",
    "    try:\n",
    "        browser.find_element_by_css_selector('div.res-page-load-more').click()\n",
    "        time.sleep(2)\n",
    "    except:\n",
    "        break"
   ]
  },
  {
   "cell_type": "code",
   "execution_count": 62,
   "metadata": {},
   "outputs": [
    {
     "data": {
      "text/plain": [
       "(144, 6)"
      ]
     },
     "execution_count": 62,
     "metadata": {},
     "output_type": "execute_result"
    }
   ],
   "source": [
    "sel = 'div.ui.segment.clearfix.brtop'\n",
    "#res_id = restaurants.loc[0, 'res_id']\n",
    "df_reviews = pd.DataFrame()\n",
    "reviews_tags = browser.find_elements_by_css_selector(sel)\n",
    "for review in reviews_tags:\n",
    "    rev_name = review.find_element_by_css_selector('a[data-entity_id]').text\n",
    "    rev_id = review.find_element_by_css_selector(\n",
    "        'a[data-entity_id]').get_attribute('data-entity_id')\n",
    "    sel = 'span.grey-text.fontsize5.nowrap'\n",
    "    rev_count = review.find_element_by_css_selector(sel).text\n",
    "    date = review.find_element_by_css_selector('time').get_attribute('datetime')\n",
    "    rat_sel = 'div.ttupper.fs12px.left.bold.zdhl2.tooltip'\n",
    "    rating = review.find_element_by_css_selector(\n",
    "        rat_sel).get_attribute('aria-label')\n",
    "    text = review.find_element_by_css_selector('div.rev-text').text\n",
    "    df_reviews = df_reviews.append({\n",
    "        'rev_name': rev_name,\n",
    "        'rev_id': rev_id,\n",
    "        'rev_count': rev_count,\n",
    "        'date': date,\n",
    "        'rating': rating,\n",
    "        'text': text\n",
    "    }, ignore_index=True)\n",
    "df_reviews.shape"
   ]
  },
  {
   "cell_type": "code",
   "execution_count": 64,
   "metadata": {},
   "outputs": [],
   "source": [
    "def get_restaurant_reviews(browser, url):\n",
    "    browser.get(url)\n",
    "    while True:\n",
    "        try:\n",
    "            browser.find_element_by_css_selector('div.res-page-load-more').click()\n",
    "            time.sleep(2)\n",
    "        except:\n",
    "            break\n",
    "    df_reviews = pd.DataFrame()\n",
    "    sel = 'div.ui.segment.clearfix.brtop'\n",
    "    reviews_tags = browser.find_elements_by_css_selector(sel)\n",
    "    for review in reviews_tags:\n",
    "        rev_name = review.find_element_by_css_selector('a[data-entity_id]').text\n",
    "        rev_id = review.find_element_by_css_selector(\n",
    "            'a[data-entity_id]').get_attribute('data-entity_id')\n",
    "        sel = 'span.grey-text.fontsize5.nowrap'\n",
    "        rev_count = review.find_element_by_css_selector(sel).text\n",
    "        date = review.find_element_by_css_selector('time').get_attribute('datetime')\n",
    "        rat_sel = 'div.ttupper.fs12px.left.bold.zdhl2.tooltip'\n",
    "        rating = review.find_element_by_css_selector(\n",
    "            rat_sel).get_attribute('aria-label')\n",
    "        text = review.find_element_by_css_selector('div.rev-text').text\n",
    "        df_reviews = df_reviews.append({\n",
    "            'rev_name': rev_name,\n",
    "            'rev_id': rev_id,\n",
    "            'rev_count': rev_count,\n",
    "            'date': date,\n",
    "            'rating': rating,\n",
    "            'text': text\n",
    "        }, ignore_index=True)\n",
    "    return df_reviews"
   ]
  },
  {
   "cell_type": "code",
   "execution_count": 68,
   "metadata": {},
   "outputs": [],
   "source": [
    "all_res_reviews = pd.DataFrame()\n",
    "for index, res in restaurants.head(2).iterrows():\n",
    "    res_reviews = get_restaurant_reviews(browser, res['url'])\n",
    "    res_reviews['res_name'] = res['title']\n",
    "    res_reviews['res_id'] = res['res_id']\n",
    "    all_res_reviews = all_res_reviews.append(res_reviews, ignore_index=True)\n",
    "    all_res_reviews.shape"
   ]
  }
 ],
 "metadata": {
  "kernelspec": {
   "display_name": "Python 3",
   "language": "python",
   "name": "python3"
  },
  "language_info": {
   "codemirror_mode": {
    "name": "ipython",
    "version": 3
   },
   "file_extension": ".py",
   "mimetype": "text/x-python",
   "name": "python",
   "nbconvert_exporter": "python",
   "pygments_lexer": "ipython3",
   "version": "3.7.1"
  }
 },
 "nbformat": 4,
 "nbformat_minor": 2
}
